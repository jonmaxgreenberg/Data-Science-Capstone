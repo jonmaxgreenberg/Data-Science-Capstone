{
  "nbformat": 4,
  "nbformat_minor": 0,
  "metadata": {
    "colab": {
      "name": "Capstone_3_Analysis_Predictions.ipynb",
      "provenance": [],
      "collapsed_sections": [
        "4N-JaX-X8zhX"
      ]
    },
    "kernelspec": {
      "name": "python3",
      "display_name": "Python 3"
    }
  },
  "cells": [
    {
      "cell_type": "code",
      "metadata": {
        "id": "mJRsMb1zpNuP",
        "colab_type": "code",
        "colab": {}
      },
      "source": [
        "import pandas as pd\n",
        "import re\n",
        "df = pd.read_csv('/content/final.csv')"
      ],
      "execution_count": 0,
      "outputs": []
    },
    {
      "cell_type": "code",
      "metadata": {
        "id": "Q9HTPFuNpTdc",
        "colab_type": "code",
        "outputId": "e8c956ee-2ff9-4e61-dd8e-dff0f90fb02a",
        "colab": {
          "base_uri": "https://localhost:8080/",
          "height": 274
        }
      },
      "source": [
        "df.head()"
      ],
      "execution_count": 480,
      "outputs": [
        {
          "output_type": "execute_result",
          "data": {
            "text/html": [
              "<div>\n",
              "<style scoped>\n",
              "    .dataframe tbody tr th:only-of-type {\n",
              "        vertical-align: middle;\n",
              "    }\n",
              "\n",
              "    .dataframe tbody tr th {\n",
              "        vertical-align: top;\n",
              "    }\n",
              "\n",
              "    .dataframe thead th {\n",
              "        text-align: right;\n",
              "    }\n",
              "</style>\n",
              "<table border=\"1\" class=\"dataframe\">\n",
              "  <thead>\n",
              "    <tr style=\"text-align: right;\">\n",
              "      <th></th>\n",
              "      <th>Year</th>\n",
              "      <th>Body</th>\n",
              "      <th>Injury</th>\n",
              "      <th>Severity</th>\n",
              "      <th>Position</th>\n",
              "      <th>Height (in cm)</th>\n",
              "      <th>Wingspan (in cm)</th>\n",
              "      <th>Standing Reach (in cm)</th>\n",
              "      <th>Weight (in lb)</th>\n",
              "      <th>Body Fat (%)</th>\n",
              "      <th>Age</th>\n",
              "      <th>EndSeasonYear</th>\n",
              "      <th>Minutes</th>\n",
              "      <th>USG%</th>\n",
              "      <th>Games_Played</th>\n",
              "      <th>Fouls</th>\n",
              "      <th>Turnovers</th>\n",
              "      <th>Points</th>\n",
              "      <th>FT</th>\n",
              "      <th>3P</th>\n",
              "      <th>Steals</th>\n",
              "      <th>Assists</th>\n",
              "      <th>Offensive_Reb</th>\n",
              "      <th>Defensive_Reb</th>\n",
              "    </tr>\n",
              "  </thead>\n",
              "  <tbody>\n",
              "    <tr>\n",
              "      <th>0</th>\n",
              "      <td>2012</td>\n",
              "      <td>knee</td>\n",
              "      <td>sore</td>\n",
              "      <td>dnp</td>\n",
              "      <td>C-F</td>\n",
              "      <td>208.3</td>\n",
              "      <td>223.5</td>\n",
              "      <td>280.7</td>\n",
              "      <td>252.0</td>\n",
              "      <td>5.3%</td>\n",
              "      <td>29</td>\n",
              "      <td>2012</td>\n",
              "      <td>31.763889</td>\n",
              "      <td>15.8</td>\n",
              "      <td>72.0</td>\n",
              "      <td>3.194444</td>\n",
              "      <td>1.652778</td>\n",
              "      <td>10.347222</td>\n",
              "      <td>2.013889</td>\n",
              "      <td>0.000000</td>\n",
              "      <td>0.555556</td>\n",
              "      <td>0.583333</td>\n",
              "      <td>3.194444</td>\n",
              "      <td>6.305556</td>\n",
              "    </tr>\n",
              "    <tr>\n",
              "      <th>1</th>\n",
              "      <td>2012</td>\n",
              "      <td>knee</td>\n",
              "      <td>torn</td>\n",
              "      <td>indefinitely</td>\n",
              "      <td>F-G</td>\n",
              "      <td>200.7</td>\n",
              "      <td>218.4</td>\n",
              "      <td>268.0</td>\n",
              "      <td>210.0</td>\n",
              "      <td>6.0%</td>\n",
              "      <td>32</td>\n",
              "      <td>2013</td>\n",
              "      <td>23.046512</td>\n",
              "      <td>20.7</td>\n",
              "      <td>43.0</td>\n",
              "      <td>2.116279</td>\n",
              "      <td>1.232558</td>\n",
              "      <td>8.651163</td>\n",
              "      <td>1.744186</td>\n",
              "      <td>0.209302</td>\n",
              "      <td>0.744186</td>\n",
              "      <td>1.162791</td>\n",
              "      <td>0.906977</td>\n",
              "      <td>2.767442</td>\n",
              "    </tr>\n",
              "    <tr>\n",
              "      <th>2</th>\n",
              "      <td>2019</td>\n",
              "      <td>ankle</td>\n",
              "      <td>sprained</td>\n",
              "      <td>dtd</td>\n",
              "      <td>G</td>\n",
              "      <td>190.5</td>\n",
              "      <td>203.2</td>\n",
              "      <td>250.2</td>\n",
              "      <td>190.0</td>\n",
              "      <td>4.6%</td>\n",
              "      <td>30</td>\n",
              "      <td>2019</td>\n",
              "      <td>19.250000</td>\n",
              "      <td>25.6</td>\n",
              "      <td>16.0</td>\n",
              "      <td>0.875000</td>\n",
              "      <td>1.750000</td>\n",
              "      <td>9.812500</td>\n",
              "      <td>2.187500</td>\n",
              "      <td>0.375000</td>\n",
              "      <td>0.187500</td>\n",
              "      <td>1.625000</td>\n",
              "      <td>0.625000</td>\n",
              "      <td>1.187500</td>\n",
              "    </tr>\n",
              "    <tr>\n",
              "      <th>3</th>\n",
              "      <td>2014</td>\n",
              "      <td>back</td>\n",
              "      <td>injury</td>\n",
              "      <td>dnp</td>\n",
              "      <td>F-C</td>\n",
              "      <td>210.8</td>\n",
              "      <td>NaN</td>\n",
              "      <td>NaN</td>\n",
              "      <td>240.0</td>\n",
              "      <td>NaN</td>\n",
              "      <td>37</td>\n",
              "      <td>2014</td>\n",
              "      <td>29.735294</td>\n",
              "      <td>24.5</td>\n",
              "      <td>68.0</td>\n",
              "      <td>2.264706</td>\n",
              "      <td>1.617647</td>\n",
              "      <td>14.764706</td>\n",
              "      <td>2.323529</td>\n",
              "      <td>0.029412</td>\n",
              "      <td>1.147059</td>\n",
              "      <td>2.338235</td>\n",
              "      <td>1.102941</td>\n",
              "      <td>6.691176</td>\n",
              "    </tr>\n",
              "    <tr>\n",
              "      <th>4</th>\n",
              "      <td>2017</td>\n",
              "      <td>back</td>\n",
              "      <td>sore</td>\n",
              "      <td>dtd</td>\n",
              "      <td>F-C</td>\n",
              "      <td>213.4</td>\n",
              "      <td>221.0</td>\n",
              "      <td>281.9</td>\n",
              "      <td>240.0</td>\n",
              "      <td>6.3%</td>\n",
              "      <td>24</td>\n",
              "      <td>2018</td>\n",
              "      <td>18.946667</td>\n",
              "      <td>19.7</td>\n",
              "      <td>75.0</td>\n",
              "      <td>1.960000</td>\n",
              "      <td>0.920000</td>\n",
              "      <td>8.146667</td>\n",
              "      <td>1.346667</td>\n",
              "      <td>0.000000</td>\n",
              "      <td>0.706667</td>\n",
              "      <td>1.066667</td>\n",
              "      <td>1.133333</td>\n",
              "      <td>3.386667</td>\n",
              "    </tr>\n",
              "  </tbody>\n",
              "</table>\n",
              "</div>"
            ],
            "text/plain": [
              "   Year   Body    Injury  ...   Assists Offensive_Reb  Defensive_Reb\n",
              "0  2012   knee      sore  ...  0.583333      3.194444       6.305556\n",
              "1  2012   knee      torn  ...  1.162791      0.906977       2.767442\n",
              "2  2019  ankle  sprained  ...  1.625000      0.625000       1.187500\n",
              "3  2014   back    injury  ...  2.338235      1.102941       6.691176\n",
              "4  2017   back      sore  ...  1.066667      1.133333       3.386667\n",
              "\n",
              "[5 rows x 24 columns]"
            ]
          },
          "metadata": {
            "tags": []
          },
          "execution_count": 480
        }
      ]
    },
    {
      "cell_type": "code",
      "metadata": {
        "id": "-RgSqzNG5tgd",
        "colab_type": "code",
        "colab": {}
      },
      "source": [
        "# create a corpus of words that should go in each category/column'\n",
        "#take the top 10 body parts and try to predict those\n",
        "\n",
        "# body  = \"leg foot metatarsal neck spinal cord finger abdominal hand/finger fifth thigh knees finger pinky ribs bone foot knee adductor acl shin back nerve ligament labrum elbow plantar achilles tendon hand head sinus thumb ankle hamstring wrist stomach midfoot arm joint tooth hip groin skin blood tonsils lungs toenail eyelid collarbone gluteus oral jaw toe heart patella shoulder calf chest eye triceps oblique mouth pelvis ear tissue nose hamstring quadriceps meniscus flexor rib abdomen forearm\"\n",
        "# injury_type = \"mononucleosis fractured hernia bulging disc gastroenteritis synovitis sore/sprained arthroscopic hernia turf bruise illness surgery partially sore sprained strained rest dislocated inflammation bruised fasciitis hyperextended spasms concussion tendinitis flu fracture stress infection virus tightness herniated torn soreness cold pain dizziness injury bonchitis laceration fatigue stiffness clots abrasion upset splits fragment microfracture contusion irritation broken swelling ailment headache \"\n",
        "\n",
        "body = \"knee ankle back foot hamstring shoulder groin calf hip wrist\" #, achilles, toe, elbow, hand, acl\n",
        "injury_type = \"sore sprained strained injury surgery bruised torn fractured spasms tendinitis\"\n",
        "\n",
        "severity = \"dtd season indefinitely rest dnp\"\n",
        "#remove these injury logs bc they dont relate to gameplay or resting\n",
        "take_out_these_players = \"illness flu-like symptoms bronchitis\"\n",
        "body = body.split()\n",
        "injury_type = injury_type.split()\n",
        "severity = severity.split()\n",
        "\n",
        "def bodetize(tokens):\n",
        "    tokens = tokens.split(\",\")\n",
        "    bodies = []\n",
        "    for x in tokens:\n",
        "        x = re.sub(r'\\W+', '', x)\n",
        "        if x in body:\n",
        "            bodies.append(x)\n",
        "    return bodies\n",
        "\n",
        "def severetize(tokens):\n",
        "  tokens = tokens.split(\",\")\n",
        "  severities = []\n",
        "  for x in tokens:\n",
        "    x = re.sub(r'\\W+', '', x)\n",
        "    if x in severity:\n",
        "      severities.append(x)\n",
        "  return severities\n",
        "  \n",
        "def injury(tokens):\n",
        "  tokens = tokens.split(\",\")\n",
        "  injuries = []\n",
        "  for x in tokens:\n",
        "    x = re.sub(r'\\W+', '', x)\n",
        "    if x in injury_type:\n",
        "      injuries.append(x)\n",
        "  return injuries\n",
        "\n"
      ],
      "execution_count": 0,
      "outputs": []
    },
    {
      "cell_type": "code",
      "metadata": {
        "id": "F1FDV51b5vvO",
        "colab_type": "code",
        "colab": {}
      },
      "source": [
        "# # create function put_body where it looks thru the tokenized notes column and returns an array of body parts for that row\n",
        "# df[\"Body\"] = df.apply(lambda row: bodetize(row['Tokenized Notes']), axis=1)\n",
        "# df[\"Injury\"] = df.apply(lambda row: injury(row['Tokenized Notes']), axis=1)\n",
        "# df[\"Severity\"] = df.apply(lambda row: severetize(row['Tokenized Notes']), axis=1)\n",
        "\n",
        "# #should i remove the rows that are rest?"
      ],
      "execution_count": 0,
      "outputs": []
    },
    {
      "cell_type": "code",
      "metadata": {
        "id": "QMdQXmmRRRQD",
        "colab_type": "code",
        "outputId": "92eb995b-ef92-4dad-934e-f075c6ed95cb",
        "colab": {
          "base_uri": "https://localhost:8080/",
          "height": 428
        }
      },
      "source": [
        "df.dtypes"
      ],
      "execution_count": 483,
      "outputs": [
        {
          "output_type": "execute_result",
          "data": {
            "text/plain": [
              "Year                        int64\n",
              "Body                       object\n",
              "Injury                     object\n",
              "Severity                   object\n",
              "Position                   object\n",
              "Height (in cm)            float64\n",
              "Wingspan (in cm)          float64\n",
              "Standing Reach (in cm)    float64\n",
              "Weight (in lb)            float64\n",
              "Body Fat (%)               object\n",
              "Age                         int64\n",
              "EndSeasonYear               int64\n",
              "Minutes                   float64\n",
              "USG%                      float64\n",
              "Games_Played              float64\n",
              "Fouls                     float64\n",
              "Turnovers                 float64\n",
              "Points                    float64\n",
              "FT                        float64\n",
              "3P                        float64\n",
              "Steals                    float64\n",
              "Assists                   float64\n",
              "Offensive_Reb             float64\n",
              "Defensive_Reb             float64\n",
              "dtype: object"
            ]
          },
          "metadata": {
            "tags": []
          },
          "execution_count": 483
        }
      ]
    },
    {
      "cell_type": "code",
      "metadata": {
        "id": "aKrXCIX_6Bxs",
        "colab_type": "code",
        "colab": {}
      },
      "source": [
        "# for exporting a cleaned up csv\n",
        "# from google.colab import files\n",
        "\n",
        "# df2.to_csv('df.csv', index=False)\n",
        "# files.download('df.csv')"
      ],
      "execution_count": 0,
      "outputs": []
    },
    {
      "cell_type": "code",
      "metadata": {
        "id": "fb76tksSSzER",
        "colab_type": "code",
        "colab": {}
      },
      "source": [
        "df['Injury'] = df['Injury'].astype(str)\n",
        "df['Body'] = df['Body'].astype(str)\n",
        "df['Severity'] = df['Severity'].astype(str)"
      ],
      "execution_count": 0,
      "outputs": []
    },
    {
      "cell_type": "code",
      "metadata": {
        "id": "SM6pRkpQPdFp",
        "colab_type": "code",
        "outputId": "2bc78a90-fe60-49ad-d5e7-6b13170bfdc5",
        "colab": {
          "base_uri": "https://localhost:8080/",
          "height": 247
        }
      },
      "source": [
        "# check out the most common words in the notes on the injuries\n",
        "from collections import Counter\n",
        "from string import punctuation\n",
        "\n",
        "import pandas as pd\n",
        "import nltk\n",
        "from nltk.corpus import stopwords\n",
        "from nltk import word_tokenize\n",
        "nltk.download('stopwords')\n",
        "nltk.download('punkt')\n",
        "\n",
        "stoplist = set(stopwords.words('english') + list(punctuation))\n",
        "\n",
        "texts = df['Body'].str.lower() #see the top words in each column...\n",
        "\n",
        "word_counts = Counter(word_tokenize('\\n'.join(texts)))\n",
        "# knee, ankle, back, foot, hamstring, shoulder, groin, calf, hip, wrist#, achilles, toe, elbow, hand, acl\n",
        "# injury = sore sprained strained injury surgery bruised torn fractured spasms tendinitis\n",
        "word_counts.most_common()"
      ],
      "execution_count": 486,
      "outputs": [
        {
          "output_type": "stream",
          "text": [
            "[nltk_data] Downloading package stopwords to /root/nltk_data...\n",
            "[nltk_data]   Package stopwords is already up-to-date!\n",
            "[nltk_data] Downloading package punkt to /root/nltk_data...\n",
            "[nltk_data]   Package punkt is already up-to-date!\n"
          ],
          "name": "stdout"
        },
        {
          "output_type": "execute_result",
          "data": {
            "text/plain": [
              "[('knee', 1112),\n",
              " ('ankle', 761),\n",
              " ('back', 369),\n",
              " ('hamstring', 277),\n",
              " ('foot', 256),\n",
              " ('shoulder', 216),\n",
              " ('groin', 195),\n",
              " ('calf', 174),\n",
              " ('hip', 154),\n",
              " ('wrist', 106)]"
            ]
          },
          "metadata": {
            "tags": []
          },
          "execution_count": 486
        }
      ]
    },
    {
      "cell_type": "code",
      "metadata": {
        "id": "vkOEpCWdZTzT",
        "colab_type": "code",
        "outputId": "3939ea79-13aa-4b1f-9946-666d10cbb6b7",
        "colab": {
          "base_uri": "https://localhost:8080/",
          "height": 274
        }
      },
      "source": [
        "#shuffles up the df\n",
        "df = df.sample(frac=1)\n",
        "\n",
        "df.head()"
      ],
      "execution_count": 487,
      "outputs": [
        {
          "output_type": "execute_result",
          "data": {
            "text/html": [
              "<div>\n",
              "<style scoped>\n",
              "    .dataframe tbody tr th:only-of-type {\n",
              "        vertical-align: middle;\n",
              "    }\n",
              "\n",
              "    .dataframe tbody tr th {\n",
              "        vertical-align: top;\n",
              "    }\n",
              "\n",
              "    .dataframe thead th {\n",
              "        text-align: right;\n",
              "    }\n",
              "</style>\n",
              "<table border=\"1\" class=\"dataframe\">\n",
              "  <thead>\n",
              "    <tr style=\"text-align: right;\">\n",
              "      <th></th>\n",
              "      <th>Year</th>\n",
              "      <th>Body</th>\n",
              "      <th>Injury</th>\n",
              "      <th>Severity</th>\n",
              "      <th>Position</th>\n",
              "      <th>Height (in cm)</th>\n",
              "      <th>Wingspan (in cm)</th>\n",
              "      <th>Standing Reach (in cm)</th>\n",
              "      <th>Weight (in lb)</th>\n",
              "      <th>Body Fat (%)</th>\n",
              "      <th>Age</th>\n",
              "      <th>EndSeasonYear</th>\n",
              "      <th>Minutes</th>\n",
              "      <th>USG%</th>\n",
              "      <th>Games_Played</th>\n",
              "      <th>Fouls</th>\n",
              "      <th>Turnovers</th>\n",
              "      <th>Points</th>\n",
              "      <th>FT</th>\n",
              "      <th>3P</th>\n",
              "      <th>Steals</th>\n",
              "      <th>Assists</th>\n",
              "      <th>Offensive_Reb</th>\n",
              "      <th>Defensive_Reb</th>\n",
              "    </tr>\n",
              "  </thead>\n",
              "  <tbody>\n",
              "    <tr>\n",
              "      <th>2062</th>\n",
              "      <td>2017</td>\n",
              "      <td>knee</td>\n",
              "      <td>injury</td>\n",
              "      <td>dtd</td>\n",
              "      <td>F</td>\n",
              "      <td>200.7</td>\n",
              "      <td>213.4</td>\n",
              "      <td>261.6</td>\n",
              "      <td>233.0</td>\n",
              "      <td>6.7%</td>\n",
              "      <td>36</td>\n",
              "      <td>2017</td>\n",
              "      <td>17.918919</td>\n",
              "      <td>13.4</td>\n",
              "      <td>74.0</td>\n",
              "      <td>1.743243</td>\n",
              "      <td>0.581081</td>\n",
              "      <td>5.540541</td>\n",
              "      <td>0.783784</td>\n",
              "      <td>0.891892</td>\n",
              "      <td>0.445946</td>\n",
              "      <td>0.797297</td>\n",
              "      <td>0.202703</td>\n",
              "      <td>1.527027</td>\n",
              "    </tr>\n",
              "    <tr>\n",
              "      <th>386</th>\n",
              "      <td>2016</td>\n",
              "      <td>knee</td>\n",
              "      <td>sore</td>\n",
              "      <td>dtd</td>\n",
              "      <td>G</td>\n",
              "      <td>195.6</td>\n",
              "      <td>207.0</td>\n",
              "      <td>252.7</td>\n",
              "      <td>220.0</td>\n",
              "      <td>6.5%</td>\n",
              "      <td>25</td>\n",
              "      <td>2016</td>\n",
              "      <td>26.041667</td>\n",
              "      <td>20.1</td>\n",
              "      <td>24.0</td>\n",
              "      <td>2.791667</td>\n",
              "      <td>1.750000</td>\n",
              "      <td>9.333333</td>\n",
              "      <td>1.041667</td>\n",
              "      <td>0.958333</td>\n",
              "      <td>1.250000</td>\n",
              "      <td>3.250000</td>\n",
              "      <td>0.916667</td>\n",
              "      <td>2.458333</td>\n",
              "    </tr>\n",
              "    <tr>\n",
              "      <th>46</th>\n",
              "      <td>2011</td>\n",
              "      <td>knee</td>\n",
              "      <td>sore</td>\n",
              "      <td>dnp</td>\n",
              "      <td>C</td>\n",
              "      <td>215.9</td>\n",
              "      <td>NaN</td>\n",
              "      <td>NaN</td>\n",
              "      <td>255.0</td>\n",
              "      <td>NaN</td>\n",
              "      <td>31</td>\n",
              "      <td>2011</td>\n",
              "      <td>22.700000</td>\n",
              "      <td>10.3</td>\n",
              "      <td>30.0</td>\n",
              "      <td>3.166667</td>\n",
              "      <td>1.300000</td>\n",
              "      <td>4.100000</td>\n",
              "      <td>1.100000</td>\n",
              "      <td>0.000000</td>\n",
              "      <td>0.266667</td>\n",
              "      <td>0.266667</td>\n",
              "      <td>2.400000</td>\n",
              "      <td>5.533333</td>\n",
              "    </tr>\n",
              "    <tr>\n",
              "      <th>2691</th>\n",
              "      <td>2012</td>\n",
              "      <td>wrist</td>\n",
              "      <td>sprained</td>\n",
              "      <td>dnp</td>\n",
              "      <td>F</td>\n",
              "      <td>208.3</td>\n",
              "      <td>214.6</td>\n",
              "      <td>270.5</td>\n",
              "      <td>250.0</td>\n",
              "      <td>NaN</td>\n",
              "      <td>30</td>\n",
              "      <td>2012</td>\n",
              "      <td>24.571429</td>\n",
              "      <td>24.6</td>\n",
              "      <td>35.0</td>\n",
              "      <td>2.800000</td>\n",
              "      <td>1.314286</td>\n",
              "      <td>11.314286</td>\n",
              "      <td>2.314286</td>\n",
              "      <td>0.085714</td>\n",
              "      <td>0.600000</td>\n",
              "      <td>1.342857</td>\n",
              "      <td>2.085714</td>\n",
              "      <td>4.714286</td>\n",
              "    </tr>\n",
              "    <tr>\n",
              "      <th>710</th>\n",
              "      <td>2016</td>\n",
              "      <td>groin</td>\n",
              "      <td>sore</td>\n",
              "      <td>dtd</td>\n",
              "      <td>G-F</td>\n",
              "      <td>198.1</td>\n",
              "      <td>207.0</td>\n",
              "      <td>264.2</td>\n",
              "      <td>220.0</td>\n",
              "      <td>NaN</td>\n",
              "      <td>33</td>\n",
              "      <td>2016</td>\n",
              "      <td>23.567568</td>\n",
              "      <td>14.2</td>\n",
              "      <td>74.0</td>\n",
              "      <td>2.000000</td>\n",
              "      <td>0.810811</td>\n",
              "      <td>7.364865</td>\n",
              "      <td>1.108108</td>\n",
              "      <td>0.986486</td>\n",
              "      <td>0.756757</td>\n",
              "      <td>1.121622</td>\n",
              "      <td>0.418919</td>\n",
              "      <td>2.337838</td>\n",
              "    </tr>\n",
              "  </tbody>\n",
              "</table>\n",
              "</div>"
            ],
            "text/plain": [
              "      Year   Body    Injury  ...   Assists Offensive_Reb  Defensive_Reb\n",
              "2062  2017   knee    injury  ...  0.797297      0.202703       1.527027\n",
              "386   2016   knee      sore  ...  3.250000      0.916667       2.458333\n",
              "46    2011   knee      sore  ...  0.266667      2.400000       5.533333\n",
              "2691  2012  wrist  sprained  ...  1.342857      2.085714       4.714286\n",
              "710   2016  groin      sore  ...  1.121622      0.418919       2.337838\n",
              "\n",
              "[5 rows x 24 columns]"
            ]
          },
          "metadata": {
            "tags": []
          },
          "execution_count": 487
        }
      ]
    },
    {
      "cell_type": "code",
      "metadata": {
        "id": "coamv7C9N3N2",
        "colab_type": "code",
        "colab": {}
      },
      "source": [
        "# export this df, top ten injury type and body parts, length of 3684 rows...pretty solid, no null values...\n",
        "df2 = df[df['Body']!=\"[]\"]\n",
        "df2 = df2[df2['Injury']!=\"[]\"]"
      ],
      "execution_count": 0,
      "outputs": []
    },
    {
      "cell_type": "code",
      "metadata": {
        "id": "X4rGsJ3XakaO",
        "colab_type": "code",
        "colab": {}
      },
      "source": [
        "df2 = df2[~df2.Body.str.contains(\",\")]\n",
        "df2 = df2[~df2.Injury.str.contains(\",\")]"
      ],
      "execution_count": 0,
      "outputs": []
    },
    {
      "cell_type": "code",
      "metadata": {
        "id": "QuI64GnyN_YD",
        "colab_type": "code",
        "outputId": "29982634-2bb2-4af0-9e56-9e14c29a413c",
        "colab": {
          "base_uri": "https://localhost:8080/",
          "height": 32
        }
      },
      "source": [
        "len(df2)"
      ],
      "execution_count": 490,
      "outputs": [
        {
          "output_type": "execute_result",
          "data": {
            "text/plain": [
              "3473"
            ]
          },
          "metadata": {
            "tags": []
          },
          "execution_count": 490
        }
      ]
    },
    {
      "cell_type": "code",
      "metadata": {
        "id": "eL4KU3nlOR-G",
        "colab_type": "code",
        "colab": {}
      },
      "source": [
        "# to get rid of all the unwanted string stuff\n",
        "df2['Body'] = df2['Body'].map(lambda x: x.strip('[]\\'\\'').rstrip('aAbBcC'))"
      ],
      "execution_count": 0,
      "outputs": []
    },
    {
      "cell_type": "code",
      "metadata": {
        "id": "PNIoPzhnOYgX",
        "colab_type": "code",
        "outputId": "42edbb55-a59c-4a9b-c145-503922cf4f9a",
        "colab": {
          "base_uri": "https://localhost:8080/",
          "height": 424
        }
      },
      "source": [
        "df2.head(10)"
      ],
      "execution_count": 492,
      "outputs": [
        {
          "output_type": "execute_result",
          "data": {
            "text/html": [
              "<div>\n",
              "<style scoped>\n",
              "    .dataframe tbody tr th:only-of-type {\n",
              "        vertical-align: middle;\n",
              "    }\n",
              "\n",
              "    .dataframe tbody tr th {\n",
              "        vertical-align: top;\n",
              "    }\n",
              "\n",
              "    .dataframe thead th {\n",
              "        text-align: right;\n",
              "    }\n",
              "</style>\n",
              "<table border=\"1\" class=\"dataframe\">\n",
              "  <thead>\n",
              "    <tr style=\"text-align: right;\">\n",
              "      <th></th>\n",
              "      <th>Year</th>\n",
              "      <th>Body</th>\n",
              "      <th>Injury</th>\n",
              "      <th>Severity</th>\n",
              "      <th>Position</th>\n",
              "      <th>Height (in cm)</th>\n",
              "      <th>Wingspan (in cm)</th>\n",
              "      <th>Standing Reach (in cm)</th>\n",
              "      <th>Weight (in lb)</th>\n",
              "      <th>Body Fat (%)</th>\n",
              "      <th>Age</th>\n",
              "      <th>EndSeasonYear</th>\n",
              "      <th>Minutes</th>\n",
              "      <th>USG%</th>\n",
              "      <th>Games_Played</th>\n",
              "      <th>Fouls</th>\n",
              "      <th>Turnovers</th>\n",
              "      <th>Points</th>\n",
              "      <th>FT</th>\n",
              "      <th>3P</th>\n",
              "      <th>Steals</th>\n",
              "      <th>Assists</th>\n",
              "      <th>Offensive_Reb</th>\n",
              "      <th>Defensive_Reb</th>\n",
              "    </tr>\n",
              "  </thead>\n",
              "  <tbody>\n",
              "    <tr>\n",
              "      <th>2062</th>\n",
              "      <td>2017</td>\n",
              "      <td>knee</td>\n",
              "      <td>injury</td>\n",
              "      <td>dtd</td>\n",
              "      <td>F</td>\n",
              "      <td>200.7</td>\n",
              "      <td>213.4</td>\n",
              "      <td>261.6</td>\n",
              "      <td>233.0</td>\n",
              "      <td>6.7%</td>\n",
              "      <td>36</td>\n",
              "      <td>2017</td>\n",
              "      <td>17.918919</td>\n",
              "      <td>13.4</td>\n",
              "      <td>74.0</td>\n",
              "      <td>1.743243</td>\n",
              "      <td>0.581081</td>\n",
              "      <td>5.540541</td>\n",
              "      <td>0.783784</td>\n",
              "      <td>0.891892</td>\n",
              "      <td>0.445946</td>\n",
              "      <td>0.797297</td>\n",
              "      <td>0.202703</td>\n",
              "      <td>1.527027</td>\n",
              "    </tr>\n",
              "    <tr>\n",
              "      <th>386</th>\n",
              "      <td>2016</td>\n",
              "      <td>knee</td>\n",
              "      <td>sore</td>\n",
              "      <td>dtd</td>\n",
              "      <td>G</td>\n",
              "      <td>195.6</td>\n",
              "      <td>207.0</td>\n",
              "      <td>252.7</td>\n",
              "      <td>220.0</td>\n",
              "      <td>6.5%</td>\n",
              "      <td>25</td>\n",
              "      <td>2016</td>\n",
              "      <td>26.041667</td>\n",
              "      <td>20.1</td>\n",
              "      <td>24.0</td>\n",
              "      <td>2.791667</td>\n",
              "      <td>1.750000</td>\n",
              "      <td>9.333333</td>\n",
              "      <td>1.041667</td>\n",
              "      <td>0.958333</td>\n",
              "      <td>1.250000</td>\n",
              "      <td>3.250000</td>\n",
              "      <td>0.916667</td>\n",
              "      <td>2.458333</td>\n",
              "    </tr>\n",
              "    <tr>\n",
              "      <th>46</th>\n",
              "      <td>2011</td>\n",
              "      <td>knee</td>\n",
              "      <td>sore</td>\n",
              "      <td>dnp</td>\n",
              "      <td>C</td>\n",
              "      <td>215.9</td>\n",
              "      <td>NaN</td>\n",
              "      <td>NaN</td>\n",
              "      <td>255.0</td>\n",
              "      <td>NaN</td>\n",
              "      <td>31</td>\n",
              "      <td>2011</td>\n",
              "      <td>22.700000</td>\n",
              "      <td>10.3</td>\n",
              "      <td>30.0</td>\n",
              "      <td>3.166667</td>\n",
              "      <td>1.300000</td>\n",
              "      <td>4.100000</td>\n",
              "      <td>1.100000</td>\n",
              "      <td>0.000000</td>\n",
              "      <td>0.266667</td>\n",
              "      <td>0.266667</td>\n",
              "      <td>2.400000</td>\n",
              "      <td>5.533333</td>\n",
              "    </tr>\n",
              "    <tr>\n",
              "      <th>2691</th>\n",
              "      <td>2012</td>\n",
              "      <td>wrist</td>\n",
              "      <td>sprained</td>\n",
              "      <td>dnp</td>\n",
              "      <td>F</td>\n",
              "      <td>208.3</td>\n",
              "      <td>214.6</td>\n",
              "      <td>270.5</td>\n",
              "      <td>250.0</td>\n",
              "      <td>NaN</td>\n",
              "      <td>30</td>\n",
              "      <td>2012</td>\n",
              "      <td>24.571429</td>\n",
              "      <td>24.6</td>\n",
              "      <td>35.0</td>\n",
              "      <td>2.800000</td>\n",
              "      <td>1.314286</td>\n",
              "      <td>11.314286</td>\n",
              "      <td>2.314286</td>\n",
              "      <td>0.085714</td>\n",
              "      <td>0.600000</td>\n",
              "      <td>1.342857</td>\n",
              "      <td>2.085714</td>\n",
              "      <td>4.714286</td>\n",
              "    </tr>\n",
              "    <tr>\n",
              "      <th>710</th>\n",
              "      <td>2016</td>\n",
              "      <td>groin</td>\n",
              "      <td>sore</td>\n",
              "      <td>dtd</td>\n",
              "      <td>G-F</td>\n",
              "      <td>198.1</td>\n",
              "      <td>207.0</td>\n",
              "      <td>264.2</td>\n",
              "      <td>220.0</td>\n",
              "      <td>NaN</td>\n",
              "      <td>33</td>\n",
              "      <td>2016</td>\n",
              "      <td>23.567568</td>\n",
              "      <td>14.2</td>\n",
              "      <td>74.0</td>\n",
              "      <td>2.000000</td>\n",
              "      <td>0.810811</td>\n",
              "      <td>7.364865</td>\n",
              "      <td>1.108108</td>\n",
              "      <td>0.986486</td>\n",
              "      <td>0.756757</td>\n",
              "      <td>1.121622</td>\n",
              "      <td>0.418919</td>\n",
              "      <td>2.337838</td>\n",
              "    </tr>\n",
              "    <tr>\n",
              "      <th>292</th>\n",
              "      <td>2014</td>\n",
              "      <td>ankle</td>\n",
              "      <td>sprained</td>\n",
              "      <td>dnp</td>\n",
              "      <td>F</td>\n",
              "      <td>200.7</td>\n",
              "      <td>200.7</td>\n",
              "      <td>256.5</td>\n",
              "      <td>209.0</td>\n",
              "      <td>10.0%</td>\n",
              "      <td>25</td>\n",
              "      <td>2014</td>\n",
              "      <td>22.086957</td>\n",
              "      <td>20.5</td>\n",
              "      <td>23.0</td>\n",
              "      <td>1.260870</td>\n",
              "      <td>1.000000</td>\n",
              "      <td>9.391304</td>\n",
              "      <td>1.391304</td>\n",
              "      <td>1.130435</td>\n",
              "      <td>0.608696</td>\n",
              "      <td>1.086957</td>\n",
              "      <td>0.652174</td>\n",
              "      <td>2.434783</td>\n",
              "    </tr>\n",
              "    <tr>\n",
              "      <th>574</th>\n",
              "      <td>2015</td>\n",
              "      <td>shoulder</td>\n",
              "      <td>injury</td>\n",
              "      <td>dtd</td>\n",
              "      <td>F-C</td>\n",
              "      <td>208.3</td>\n",
              "      <td>227.3</td>\n",
              "      <td>274.3</td>\n",
              "      <td>253.0</td>\n",
              "      <td>7.9%</td>\n",
              "      <td>22</td>\n",
              "      <td>2016</td>\n",
              "      <td>36.102941</td>\n",
              "      <td>27.8</td>\n",
              "      <td>68.0</td>\n",
              "      <td>2.073529</td>\n",
              "      <td>1.397059</td>\n",
              "      <td>24.352941</td>\n",
              "      <td>5.455882</td>\n",
              "      <td>0.014706</td>\n",
              "      <td>1.470588</td>\n",
              "      <td>2.191176</td>\n",
              "      <td>2.544118</td>\n",
              "      <td>7.691176</td>\n",
              "    </tr>\n",
              "    <tr>\n",
              "      <th>821</th>\n",
              "      <td>2012</td>\n",
              "      <td>groin</td>\n",
              "      <td>strained</td>\n",
              "      <td>dnp</td>\n",
              "      <td>G</td>\n",
              "      <td>190.5</td>\n",
              "      <td>203.2</td>\n",
              "      <td>250.2</td>\n",
              "      <td>190.0</td>\n",
              "      <td>4.6%</td>\n",
              "      <td>23</td>\n",
              "      <td>2012</td>\n",
              "      <td>37.358025</td>\n",
              "      <td>32.2</td>\n",
              "      <td>81.0</td>\n",
              "      <td>1.679012</td>\n",
              "      <td>3.432099</td>\n",
              "      <td>25.012346</td>\n",
              "      <td>5.876543</td>\n",
              "      <td>1.580247</td>\n",
              "      <td>1.049383</td>\n",
              "      <td>7.691358</td>\n",
              "      <td>1.000000</td>\n",
              "      <td>3.074074</td>\n",
              "    </tr>\n",
              "    <tr>\n",
              "      <th>2495</th>\n",
              "      <td>2012</td>\n",
              "      <td>back</td>\n",
              "      <td>strained</td>\n",
              "      <td>dnp</td>\n",
              "      <td>G</td>\n",
              "      <td>190.5</td>\n",
              "      <td>203.2</td>\n",
              "      <td>250.2</td>\n",
              "      <td>190.0</td>\n",
              "      <td>4.6%</td>\n",
              "      <td>23</td>\n",
              "      <td>2012</td>\n",
              "      <td>37.358025</td>\n",
              "      <td>32.2</td>\n",
              "      <td>81.0</td>\n",
              "      <td>1.679012</td>\n",
              "      <td>3.432099</td>\n",
              "      <td>25.012346</td>\n",
              "      <td>5.876543</td>\n",
              "      <td>1.580247</td>\n",
              "      <td>1.049383</td>\n",
              "      <td>7.691358</td>\n",
              "      <td>1.000000</td>\n",
              "      <td>3.074074</td>\n",
              "    </tr>\n",
              "    <tr>\n",
              "      <th>3067</th>\n",
              "      <td>2018</td>\n",
              "      <td>knee</td>\n",
              "      <td>sore</td>\n",
              "      <td>dtd</td>\n",
              "      <td>C-F</td>\n",
              "      <td>213.4</td>\n",
              "      <td>NaN</td>\n",
              "      <td>NaN</td>\n",
              "      <td>250.0</td>\n",
              "      <td>NaN</td>\n",
              "      <td>24</td>\n",
              "      <td>2019</td>\n",
              "      <td>30.349206</td>\n",
              "      <td>33.4</td>\n",
              "      <td>63.0</td>\n",
              "      <td>3.317460</td>\n",
              "      <td>3.714286</td>\n",
              "      <td>22.936508</td>\n",
              "      <td>5.698413</td>\n",
              "      <td>1.047619</td>\n",
              "      <td>0.634921</td>\n",
              "      <td>3.158730</td>\n",
              "      <td>2.269841</td>\n",
              "      <td>8.682540</td>\n",
              "    </tr>\n",
              "  </tbody>\n",
              "</table>\n",
              "</div>"
            ],
            "text/plain": [
              "      Year      Body    Injury  ...   Assists Offensive_Reb  Defensive_Reb\n",
              "2062  2017      knee    injury  ...  0.797297      0.202703       1.527027\n",
              "386   2016      knee      sore  ...  3.250000      0.916667       2.458333\n",
              "46    2011      knee      sore  ...  0.266667      2.400000       5.533333\n",
              "2691  2012     wrist  sprained  ...  1.342857      2.085714       4.714286\n",
              "710   2016     groin      sore  ...  1.121622      0.418919       2.337838\n",
              "292   2014     ankle  sprained  ...  1.086957      0.652174       2.434783\n",
              "574   2015  shoulder    injury  ...  2.191176      2.544118       7.691176\n",
              "821   2012     groin  strained  ...  7.691358      1.000000       3.074074\n",
              "2495  2012      back  strained  ...  7.691358      1.000000       3.074074\n",
              "3067  2018      knee      sore  ...  3.158730      2.269841       8.682540\n",
              "\n",
              "[10 rows x 24 columns]"
            ]
          },
          "metadata": {
            "tags": []
          },
          "execution_count": 492
        }
      ]
    },
    {
      "cell_type": "code",
      "metadata": {
        "id": "u8Je7bKQUBCD",
        "colab_type": "code",
        "colab": {}
      },
      "source": [
        "# df2 = pd.get_dummies(df2)"
      ],
      "execution_count": 0,
      "outputs": []
    },
    {
      "cell_type": "code",
      "metadata": {
        "id": "p2mPr8fQRr7K",
        "colab_type": "code",
        "colab": {}
      },
      "source": [
        "# df2 = df2.drop([\"Date\", \"Team\", \"Notes\", \"Player\", \"Tokenized Notes\", \"Player_Identifier\"], axis = 1)"
      ],
      "execution_count": 0,
      "outputs": []
    },
    {
      "cell_type": "markdown",
      "metadata": {
        "id": "4N-JaX-X8zhX",
        "colab_type": "text"
      },
      "source": [
        "#How are body parts getting injured?"
      ]
    },
    {
      "cell_type": "code",
      "metadata": {
        "id": "kFQ8gNzv5pUB",
        "colab_type": "code",
        "colab": {}
      },
      "source": [
        "# now readding the body part injured to the df for some correlation analysis...\n",
        "body_injury_df = pd.DataFrame() "
      ],
      "execution_count": 0,
      "outputs": []
    },
    {
      "cell_type": "code",
      "metadata": {
        "id": "gLTXquYT1eH2",
        "colab_type": "code",
        "colab": {}
      },
      "source": [
        "y = pd.get_dummies(df2['Body']) \n",
        "x = pd.get_dummies(df2['Injury']) \n",
        "# z = pd.get_dummies(df2['Position']) \n",
        "#add position dummetized into here\n",
        "\n",
        "body_injury_df = pd.concat([body_injury_df, y], axis = 1)\n",
        "body_injury_df = pd.concat([body_injury_df, x], axis = 1)\n",
        "# body_injury_df = pd.concat([body_injury_df, z], axis = 1)\n",
        "\n"
      ],
      "execution_count": 0,
      "outputs": []
    },
    {
      "cell_type": "code",
      "metadata": {
        "id": "elnvkVb92HP5",
        "colab_type": "code",
        "outputId": "c2fce3b4-bd57-4840-ec65-4b14d853da73",
        "colab": {
          "base_uri": "https://localhost:8080/",
          "height": 221
        }
      },
      "source": [
        "body_injury_df.head()"
      ],
      "execution_count": 497,
      "outputs": [
        {
          "output_type": "execute_result",
          "data": {
            "text/html": [
              "<div>\n",
              "<style scoped>\n",
              "    .dataframe tbody tr th:only-of-type {\n",
              "        vertical-align: middle;\n",
              "    }\n",
              "\n",
              "    .dataframe tbody tr th {\n",
              "        vertical-align: top;\n",
              "    }\n",
              "\n",
              "    .dataframe thead th {\n",
              "        text-align: right;\n",
              "    }\n",
              "</style>\n",
              "<table border=\"1\" class=\"dataframe\">\n",
              "  <thead>\n",
              "    <tr style=\"text-align: right;\">\n",
              "      <th></th>\n",
              "      <th>ankle</th>\n",
              "      <th>back</th>\n",
              "      <th>calf</th>\n",
              "      <th>foot</th>\n",
              "      <th>groin</th>\n",
              "      <th>hamstring</th>\n",
              "      <th>hip</th>\n",
              "      <th>knee</th>\n",
              "      <th>shoulder</th>\n",
              "      <th>wrist</th>\n",
              "      <th>bruised</th>\n",
              "      <th>fractured</th>\n",
              "      <th>injury</th>\n",
              "      <th>sore</th>\n",
              "      <th>spasms</th>\n",
              "      <th>sprained</th>\n",
              "      <th>strained</th>\n",
              "      <th>surgery</th>\n",
              "      <th>tendinitis</th>\n",
              "      <th>torn</th>\n",
              "    </tr>\n",
              "  </thead>\n",
              "  <tbody>\n",
              "    <tr>\n",
              "      <th>2062</th>\n",
              "      <td>0</td>\n",
              "      <td>0</td>\n",
              "      <td>0</td>\n",
              "      <td>0</td>\n",
              "      <td>0</td>\n",
              "      <td>0</td>\n",
              "      <td>0</td>\n",
              "      <td>1</td>\n",
              "      <td>0</td>\n",
              "      <td>0</td>\n",
              "      <td>0</td>\n",
              "      <td>0</td>\n",
              "      <td>1</td>\n",
              "      <td>0</td>\n",
              "      <td>0</td>\n",
              "      <td>0</td>\n",
              "      <td>0</td>\n",
              "      <td>0</td>\n",
              "      <td>0</td>\n",
              "      <td>0</td>\n",
              "    </tr>\n",
              "    <tr>\n",
              "      <th>386</th>\n",
              "      <td>0</td>\n",
              "      <td>0</td>\n",
              "      <td>0</td>\n",
              "      <td>0</td>\n",
              "      <td>0</td>\n",
              "      <td>0</td>\n",
              "      <td>0</td>\n",
              "      <td>1</td>\n",
              "      <td>0</td>\n",
              "      <td>0</td>\n",
              "      <td>0</td>\n",
              "      <td>0</td>\n",
              "      <td>0</td>\n",
              "      <td>1</td>\n",
              "      <td>0</td>\n",
              "      <td>0</td>\n",
              "      <td>0</td>\n",
              "      <td>0</td>\n",
              "      <td>0</td>\n",
              "      <td>0</td>\n",
              "    </tr>\n",
              "    <tr>\n",
              "      <th>46</th>\n",
              "      <td>0</td>\n",
              "      <td>0</td>\n",
              "      <td>0</td>\n",
              "      <td>0</td>\n",
              "      <td>0</td>\n",
              "      <td>0</td>\n",
              "      <td>0</td>\n",
              "      <td>1</td>\n",
              "      <td>0</td>\n",
              "      <td>0</td>\n",
              "      <td>0</td>\n",
              "      <td>0</td>\n",
              "      <td>0</td>\n",
              "      <td>1</td>\n",
              "      <td>0</td>\n",
              "      <td>0</td>\n",
              "      <td>0</td>\n",
              "      <td>0</td>\n",
              "      <td>0</td>\n",
              "      <td>0</td>\n",
              "    </tr>\n",
              "    <tr>\n",
              "      <th>2691</th>\n",
              "      <td>0</td>\n",
              "      <td>0</td>\n",
              "      <td>0</td>\n",
              "      <td>0</td>\n",
              "      <td>0</td>\n",
              "      <td>0</td>\n",
              "      <td>0</td>\n",
              "      <td>0</td>\n",
              "      <td>0</td>\n",
              "      <td>1</td>\n",
              "      <td>0</td>\n",
              "      <td>0</td>\n",
              "      <td>0</td>\n",
              "      <td>0</td>\n",
              "      <td>0</td>\n",
              "      <td>1</td>\n",
              "      <td>0</td>\n",
              "      <td>0</td>\n",
              "      <td>0</td>\n",
              "      <td>0</td>\n",
              "    </tr>\n",
              "    <tr>\n",
              "      <th>710</th>\n",
              "      <td>0</td>\n",
              "      <td>0</td>\n",
              "      <td>0</td>\n",
              "      <td>0</td>\n",
              "      <td>1</td>\n",
              "      <td>0</td>\n",
              "      <td>0</td>\n",
              "      <td>0</td>\n",
              "      <td>0</td>\n",
              "      <td>0</td>\n",
              "      <td>0</td>\n",
              "      <td>0</td>\n",
              "      <td>0</td>\n",
              "      <td>1</td>\n",
              "      <td>0</td>\n",
              "      <td>0</td>\n",
              "      <td>0</td>\n",
              "      <td>0</td>\n",
              "      <td>0</td>\n",
              "      <td>0</td>\n",
              "    </tr>\n",
              "  </tbody>\n",
              "</table>\n",
              "</div>"
            ],
            "text/plain": [
              "      ankle  back  calf  foot  ...  strained  surgery  tendinitis  torn\n",
              "2062      0     0     0     0  ...         0        0           0     0\n",
              "386       0     0     0     0  ...         0        0           0     0\n",
              "46        0     0     0     0  ...         0        0           0     0\n",
              "2691      0     0     0     0  ...         0        0           0     0\n",
              "710       0     0     0     0  ...         0        0           0     0\n",
              "\n",
              "[5 rows x 20 columns]"
            ]
          },
          "metadata": {
            "tags": []
          },
          "execution_count": 497
        }
      ]
    },
    {
      "cell_type": "code",
      "metadata": {
        "id": "SRBmdYlf1bR1",
        "colab_type": "code",
        "outputId": "3eca990c-468d-4c12-ad4b-5ba144ff9dc7",
        "colab": {
          "base_uri": "https://localhost:8080/",
          "height": 52
        }
      },
      "source": [
        "import seaborn as sn\n",
        "import matplotlib.pyplot as plt\n",
        "fig, ax = plt.subplots(figsize=(20,20))   \n",
        "sn.heatmap(body_injury_df.corr(), annot=True, ax=ax)\n",
        "plt.show()"
      ],
      "execution_count": 498,
      "outputs": [
        {
          "output_type": "display_data",
          "data": {
            "image/png": "[encoded data removed]",
            "text/plain": [
              "<Figure size 1440x1440 with 2 Axes>"
            ]
          },
          "metadata": {
            "tags": [],
            "needs_background": "light"
          }
        }
      ]
    },
    {
      "cell_type": "markdown",
      "metadata": {
        "id": "IlRe9zKTqHYW",
        "colab_type": "text"
      },
      "source": [
        ""
      ]
    },
    {
      "cell_type": "markdown",
      "metadata": {
        "id": "EpHiqti3xpB8",
        "colab_type": "text"
      },
      "source": [
        "#Dummy Model"
      ]
    },
    {
      "cell_type": "code",
      "metadata": {
        "id": "xvPE4EBsxoaa",
        "colab_type": "code",
        "outputId": "e223f055-d897-4654-afa0-9480225aeecf",
        "colab": {
          "base_uri": "https://localhost:8080/",
          "height": 329
        }
      },
      "source": [
        "import sklearn\n",
        "from sklearn import metrics\n",
        "from sklearn.dummy import DummyClassifier\n",
        "from sklearn.model_selection import train_test_split\n",
        "from sklearn.metrics import roc_auc_score\n",
        "\n",
        "#for the plot of all the algorithms at the end\n",
        "results_injury = []\n",
        "\n",
        "feature_cols = ['Year', 'Age', 'Minutes','USG%', 'Points', \"Height (in cm)\", \"Weight (in lb)\", \"Steals\", \"Defensive_Reb\", \"Turnovers\"]\n",
        "df2 = df2.sample(frac=1) # shuffle the DF\n",
        "X = df2[feature_cols] # Features\n",
        "# to change the t\n",
        "y = df2.Body # Target variable\n",
        "# y = df2.Injury # Target variable\n",
        "\n",
        "X_train, X_test, y_train, y_test = train_test_split(X, y, test_size=0.3, random_state=1) # 70% training and 30% test\n",
        "dummy_clf = sklearn.dummy.DummyClassifier(strategy='stratified') # same distribution as the dataset\n",
        "dummy_clf.fit(X_train, y_train)\n",
        "\n",
        "# DummyClassifier(strategy='most_frequent')\n",
        "y_pred = dummy_clf.predict(X_test)\n",
        "# how did our model perform?\n",
        "count_misclassified = (y_test != y_pred).sum()\n",
        "print('Misclassified samples: {}'.format(count_misclassified))\n",
        "print(\"Everything: \\n\", metrics.classification_report(y_test, y_pred, digits=3))\n",
        "# print(roc_auc_score(y_test, y_pred, average='micro'))\n",
        "results_injury.append(sklearn.metrics.f1_score(y_test, y_pred, average='micro'))\n",
        "\n",
        "# # hard to label this confusion matrix\n",
        "# print(metrics.confusion_matrix(y_test, y_pred))"
      ],
      "execution_count": 515,
      "outputs": [
        {
          "output_type": "stream",
          "text": [
            "Misclassified samples: 856\n",
            "Everything: \n",
            "               precision    recall  f1-score   support\n",
            "\n",
            "       ankle      0.239     0.265     0.251       223\n",
            "        back      0.125     0.107     0.115       122\n",
            "        calf      0.042     0.036     0.039        55\n",
            "        foot      0.071     0.069     0.070        72\n",
            "       groin      0.029     0.039     0.033        51\n",
            "   hamstring      0.080     0.081     0.081        86\n",
            "         hip      0.086     0.068     0.076        44\n",
            "        knee      0.299     0.280     0.289       314\n",
            "    shoulder      0.091     0.096     0.093        52\n",
            "       wrist      0.061     0.087     0.071        23\n",
            "\n",
            "    accuracy                          0.179      1042\n",
            "   macro avg      0.112     0.113     0.112      1042\n",
            "weighted avg      0.181     0.179     0.179      1042\n",
            "\n"
          ],
          "name": "stdout"
        }
      ]
    },
    {
      "cell_type": "markdown",
      "metadata": {
        "id": "pXSw38fu_5dT",
        "colab_type": "text"
      },
      "source": [
        "#Naive Bayes"
      ]
    },
    {
      "cell_type": "code",
      "metadata": {
        "id": "KNno5eVj_6-N",
        "colab_type": "code",
        "outputId": "bb759ce8-33d7-47f7-e103-266cd9cd12c2",
        "colab": {
          "base_uri": "https://localhost:8080/",
          "height": 402
        }
      },
      "source": [
        "#Import Gaussian Naive Bayes model\n",
        "from sklearn.naive_bayes import GaussianNB\n",
        "\n",
        "#Create a Gaussian Classifier\n",
        "model = GaussianNB()\n",
        "\n",
        "# Train the model using the training sets\n",
        "model.fit(X_train,y_train)\n",
        "\n",
        "#Predict Output\n",
        "y_pred= model.predict(X_test) # 0:Overcast, 2:Mild\n",
        "count_misclassified = (y_test != y_pred).sum()\n",
        "print('Misclassified samples: {}'.format(count_misclassified))\n",
        "print(\"Everything: \\n\", metrics.classification_report(y_test, y_pred, digits=3))\n",
        "results_injury.append(sklearn.metrics.f1_score(y_test, y_pred, average='micro'))\n",
        "\n",
        "# # hard to label this confusion matrix\n",
        "# print(metrics.confusion_matrix(y_test, y_pred))"
      ],
      "execution_count": 500,
      "outputs": [
        {
          "output_type": "stream",
          "text": [
            "Misclassified samples: 827\n",
            "Everything: \n",
            "               precision    recall  f1-score   support\n",
            "\n",
            "       ankle      0.233     0.553     0.327       219\n",
            "        back      0.207     0.176     0.190       102\n",
            "        calf      0.000     0.000     0.000        57\n",
            "        foot      0.194     0.146     0.167        82\n",
            "       groin      0.062     0.106     0.079        47\n",
            "   hamstring      0.484     0.160     0.240        94\n",
            "         hip      0.095     0.047     0.062        43\n",
            "        knee      0.213     0.103     0.139       310\n",
            "    shoulder      0.059     0.057     0.058        53\n",
            "       wrist      0.175     0.200     0.187        35\n",
            "\n",
            "    accuracy                          0.206      1042\n",
            "   macro avg      0.172     0.155     0.145      1042\n",
            "weighted avg      0.207     0.206     0.179      1042\n",
            "\n"
          ],
          "name": "stdout"
        },
        {
          "output_type": "stream",
          "text": [
            "/usr/local/lib/python3.6/dist-packages/sklearn/metrics/_classification.py:1272: UndefinedMetricWarning: Precision and F-score are ill-defined and being set to 0.0 in labels with no predicted samples. Use `zero_division` parameter to control this behavior.\n",
            "  _warn_prf(average, modifier, msg_start, len(result))\n"
          ],
          "name": "stderr"
        }
      ]
    },
    {
      "cell_type": "markdown",
      "metadata": {
        "id": "A0bgHWpxxvsN",
        "colab_type": "text"
      },
      "source": [
        "#Logistic Regression"
      ]
    },
    {
      "cell_type": "code",
      "metadata": {
        "id": "GkI6KXNSpYjB",
        "colab_type": "code",
        "colab": {}
      },
      "source": [
        "from sklearn.preprocessing import StandardScaler\n",
        "from sklearn import metrics\n",
        "from sklearn.model_selection import train_test_split\n",
        "from sklearn.linear_model import LogisticRegression\n",
        "import pandas as pd\n",
        "import numpy as np\n",
        "from sklearn.linear_model import LogisticRegression"
      ],
      "execution_count": 0,
      "outputs": []
    },
    {
      "cell_type": "code",
      "metadata": {
        "id": "6ypF2tOSqK_h",
        "colab_type": "code",
        "outputId": "4c457259-50f8-42b6-9b14-9369176e4d15",
        "colab": {
          "base_uri": "https://localhost:8080/",
          "height": 402
        }
      },
      "source": [
        "scaler = StandardScaler()\n",
        "# Fit on training set only.\n",
        "scaler.fit(X_train)\n",
        "# Apply transform to both the training set and the test set.\n",
        "train_img = scaler.transform(X_train)\n",
        "test_img = scaler.transform(X_test)\n",
        "model = LogisticRegression(solver = 'lbfgs')\n",
        "model.fit(train_img, y_train)\n",
        "# use the model to make predictions with the test data\n",
        "y_pred = model.predict(test_img)\n",
        "# how did our model perform?\n",
        "count_misclassified = (y_test != y_pred).sum()\n",
        "print('Misclassified samples: {}'.format(count_misclassified))\n",
        "accuracy = metrics.accuracy_score(y_test, y_pred)\n",
        "print(\"Everything: \\n\", metrics.classification_report(y_test, y_pred, digits=3))\n",
        "results_injury.append(sklearn.metrics.f1_score(y_test, y_pred, average='micro'))\n",
        "\n",
        "# # hard to label this confusion matrix\n",
        "# print(metrics.confusion_matrix(y_test, y_pred))"
      ],
      "execution_count": 502,
      "outputs": [
        {
          "output_type": "stream",
          "text": [
            "Misclassified samples: 728\n"
          ],
          "name": "stdout"
        },
        {
          "output_type": "stream",
          "text": [
            "/usr/local/lib/python3.6/dist-packages/sklearn/metrics/_classification.py:1272: UndefinedMetricWarning: Precision and F-score are ill-defined and being set to 0.0 in labels with no predicted samples. Use `zero_division` parameter to control this behavior.\n",
            "  _warn_prf(average, modifier, msg_start, len(result))\n"
          ],
          "name": "stderr"
        },
        {
          "output_type": "stream",
          "text": [
            "Everything: \n",
            "               precision    recall  f1-score   support\n",
            "\n",
            "       ankle      0.228     0.201     0.214       219\n",
            "        back      0.394     0.127     0.193       102\n",
            "        calf      0.000     0.000     0.000        57\n",
            "        foot      0.444     0.049     0.088        82\n",
            "       groin      0.231     0.064     0.100        47\n",
            "   hamstring      0.333     0.011     0.021        94\n",
            "         hip      0.000     0.000     0.000        43\n",
            "        knee      0.315     0.803     0.452       310\n",
            "    shoulder      0.000     0.000     0.000        53\n",
            "       wrist      0.000     0.000     0.000        35\n",
            "\n",
            "    accuracy                          0.301      1042\n",
            "   macro avg      0.195     0.125     0.107      1042\n",
            "weighted avg      0.256     0.301     0.212      1042\n",
            "\n"
          ],
          "name": "stdout"
        }
      ]
    },
    {
      "cell_type": "markdown",
      "metadata": {
        "id": "hY7_KSL6_Jkr",
        "colab_type": "text"
      },
      "source": [
        "#KNN Classifier"
      ]
    },
    {
      "cell_type": "code",
      "metadata": {
        "id": "Ewah5QMc_I5S",
        "colab_type": "code",
        "colab": {}
      },
      "source": [
        "#Import knearest neighbors Classifier model\n",
        "from sklearn.neighbors import KNeighborsClassifier\n",
        "\n",
        "#Create KNN Classifier\n",
        "knn = KNeighborsClassifier(n_neighbors=3)\n",
        "\n",
        "#Train the model using the training sets\n",
        "knn.fit(X_train, y_train)\n",
        "\n",
        "#Predict the response for test dataset\n",
        "y_pred = knn.predict(X_test)"
      ],
      "execution_count": 0,
      "outputs": []
    },
    {
      "cell_type": "code",
      "metadata": {
        "id": "gOd7P2JB_RSX",
        "colab_type": "code",
        "outputId": "e3158db7-a69a-4a8e-8131-8f12468a5018",
        "colab": {
          "base_uri": "https://localhost:8080/",
          "height": 345
        }
      },
      "source": [
        "#Import scikit-learn metrics module for accuracy calculation\n",
        "from sklearn import metrics\n",
        "# Model Accuracy, how often is the classifier correct?\n",
        "# how did our model perform?\n",
        "count_misclassified = (y_test != y_pred).sum()\n",
        "print('Misclassified samples: {}'.format(count_misclassified))\n",
        "print(\"Accuracy:\",metrics.accuracy_score(y_test, y_pred))\n",
        "print(\"Everything: \\n\", metrics.classification_report(y_test, y_pred, digits=3))\n",
        "results_injury.append(sklearn.metrics.f1_score(y_test, y_pred, average='micro'))\n",
        "\n",
        "# # hard to label this confusion matrix\n",
        "# print(metrics.confusion_matrix(y_test, y_pred))"
      ],
      "execution_count": 504,
      "outputs": [
        {
          "output_type": "stream",
          "text": [
            "Misclassified samples: 493\n",
            "Accuracy: 0.5268714011516314\n",
            "Everything: \n",
            "               precision    recall  f1-score   support\n",
            "\n",
            "       ankle      0.430     0.676     0.526       219\n",
            "        back      0.423     0.431     0.427       102\n",
            "        calf      0.500     0.421     0.457        57\n",
            "        foot      0.530     0.427     0.473        82\n",
            "       groin      0.540     0.574     0.557        47\n",
            "   hamstring      0.557     0.415     0.476        94\n",
            "         hip      0.409     0.209     0.277        43\n",
            "        knee      0.675     0.629     0.651       310\n",
            "    shoulder      0.515     0.321     0.395        53\n",
            "       wrist      0.688     0.314     0.431        35\n",
            "\n",
            "    accuracy                          0.527      1042\n",
            "   macro avg      0.527     0.442     0.467      1042\n",
            "weighted avg      0.542     0.527     0.522      1042\n",
            "\n"
          ],
          "name": "stdout"
        }
      ]
    },
    {
      "cell_type": "markdown",
      "metadata": {
        "id": "0X2bSZNJcD7y",
        "colab_type": "text"
      },
      "source": [
        "#Decision Tree"
      ]
    },
    {
      "cell_type": "code",
      "metadata": {
        "id": "naoAHVjBRo1n",
        "colab_type": "code",
        "colab": {}
      },
      "source": [
        "# Load libraries\n",
        "import pandas as pd\n",
        "from sklearn.tree import DecisionTreeClassifier # Import Decision Tree Classifier\n",
        "from sklearn.model_selection import train_test_split # Import train_test_split function\n",
        "from sklearn import metrics\n",
        "from sklearn import tree"
      ],
      "execution_count": 0,
      "outputs": []
    },
    {
      "cell_type": "code",
      "metadata": {
        "id": "mEA0c07WTEAD",
        "colab_type": "code",
        "colab": {}
      },
      "source": [
        "# Create Decision Tree classifer object\n",
        "clf = DecisionTreeClassifier()\n",
        "\n",
        "# Train Decision Tree Classifer\n",
        "clf = clf.fit(X_train,y_train)\n",
        "\n",
        "#Predict the response for test dataset\n",
        "y_pred = clf.predict(X_test)"
      ],
      "execution_count": 0,
      "outputs": []
    },
    {
      "cell_type": "code",
      "metadata": {
        "id": "okuLoqKfVEY7",
        "colab_type": "code",
        "outputId": "84033602-fef5-4307-bd77-b2042eaa3d5f",
        "colab": {
          "base_uri": "https://localhost:8080/",
          "height": 329
        }
      },
      "source": [
        "count_misclassified = (y_test != y_pred).sum()\n",
        "print('Misclassified samples: {}'.format(count_misclassified))\n",
        "print(\"Everything: \\n\", metrics.classification_report(y_test, y_pred, digits=3))\n",
        "results_injury.append(sklearn.metrics.f1_score(y_test, y_pred, average='micro'))\n",
        "\n",
        "# # hard to label this confusion matrix\n",
        "# print(metrics.confusion_matrix(y_test, y_pred))"
      ],
      "execution_count": 507,
      "outputs": [
        {
          "output_type": "stream",
          "text": [
            "Misclassified samples: 440\n",
            "Everything: \n",
            "               precision    recall  f1-score   support\n",
            "\n",
            "       ankle      0.539     0.598     0.567       219\n",
            "        back      0.450     0.490     0.469       102\n",
            "        calf      0.542     0.561     0.552        57\n",
            "        foot      0.579     0.537     0.557        82\n",
            "       groin      0.526     0.638     0.577        47\n",
            "   hamstring      0.684     0.574     0.624        94\n",
            "         hip      0.412     0.326     0.364        43\n",
            "        knee      0.676     0.674     0.675       310\n",
            "    shoulder      0.551     0.509     0.529        53\n",
            "       wrist      0.440     0.314     0.367        35\n",
            "\n",
            "    accuracy                          0.578      1042\n",
            "   macro avg      0.540     0.522     0.528      1042\n",
            "weighted avg      0.579     0.578     0.577      1042\n",
            "\n"
          ],
          "name": "stdout"
        }
      ]
    },
    {
      "cell_type": "markdown",
      "metadata": {
        "id": "Jsf3ioYPfaTH",
        "colab_type": "text"
      },
      "source": [
        "#Random Forest"
      ]
    },
    {
      "cell_type": "code",
      "metadata": {
        "id": "K3FZUAnYfdQy",
        "colab_type": "code",
        "outputId": "86ed5316-8689-425b-8a47-cd46b8ccef1f",
        "colab": {
          "base_uri": "https://localhost:8080/",
          "height": 494
        }
      },
      "source": [
        "from sklearn.ensemble import RandomForestClassifier\n",
        "# Create the model with 100 trees\n",
        "clf = RandomForestClassifier(n_estimators=100, \n",
        "                               bootstrap = True,\n",
        "                               max_features = 'sqrt')\n",
        "# Fit on training data\n",
        "clf = clf.fit(X_train, y_train)\n",
        "\n",
        "# Actual class predictions\n",
        "y_pred = clf.predict(X_test)\n",
        "# Probabilities for each class\n",
        "rf_probs = clf.predict_proba(X_test)[:, 1]\n",
        "count_misclassified = (y_test != y_pred).sum()\n",
        "print('Misclassified samples: {} out of {}'.format(count_misclassified, len(y_test)))\n",
        "print(\"Everything: \\n\", metrics.classification_report(y_test, y_pred, digits=3))\n",
        "results_injury.append(sklearn.metrics.f1_score(y_test, y_pred, average='micro'))\n",
        "\n",
        "# hard to label this confusion matrix\n",
        "print(metrics.confusion_matrix(y_test, y_pred))"
      ],
      "execution_count": 514,
      "outputs": [
        {
          "output_type": "stream",
          "text": [
            "Misclassified samples: 414 out of 1042\n",
            "Everything: \n",
            "               precision    recall  f1-score   support\n",
            "\n",
            "       ankle      0.514     0.607     0.557       214\n",
            "        back      0.684     0.456     0.547       114\n",
            "        calf      0.661     0.685     0.673        54\n",
            "        foot      0.672     0.577     0.621        78\n",
            "       groin      0.759     0.667     0.710        66\n",
            "   hamstring      0.606     0.642     0.623        67\n",
            "         hip      0.515     0.340     0.410        50\n",
            "        knee      0.595     0.728     0.655       302\n",
            "    shoulder      0.667     0.431     0.523        65\n",
            "       wrist      0.750     0.375     0.500        32\n",
            "\n",
            "    accuracy                          0.603      1042\n",
            "   macro avg      0.642     0.551     0.582      1042\n",
            "weighted avg      0.614     0.603     0.598      1042\n",
            "\n",
            "[[130   7   3   8   3   5   4  49   5   0]\n",
            " [ 18  52   3   2   4   2   2  28   1   2]\n",
            " [  3   0  37   3   0   0   4   7   0   0]\n",
            " [ 17   2   0  45   1   0   0  11   2   0]\n",
            " [  5   1   2   2  44   2   1   9   0   0]\n",
            " [  7   0   1   1   1  43   1  13   0   0]\n",
            " [  5   2   2   3   2   4  17  13   2   0]\n",
            " [ 46   8   5   1   3  10   4 220   4   1]\n",
            " [ 15   3   3   2   0   3   0  10  28   1]\n",
            " [  7   1   0   0   0   2   0  10   0  12]]\n"
          ],
          "name": "stdout"
        }
      ]
    },
    {
      "cell_type": "markdown",
      "metadata": {
        "id": "_MOvw_dtrO2R",
        "colab_type": "text"
      },
      "source": [
        "random forests are better than a single decision tree, makes sense!"
      ]
    },
    {
      "cell_type": "markdown",
      "metadata": {
        "id": "Z-0MEdiBhVFY",
        "colab_type": "text"
      },
      "source": [
        "#Feature Importance"
      ]
    },
    {
      "cell_type": "code",
      "metadata": {
        "id": "c-Vae_GLhULh",
        "colab_type": "code",
        "outputId": "46e1650a-1638-4fe3-d7a8-99d375b193b7",
        "colab": {
          "base_uri": "https://localhost:8080/",
          "height": 197
        }
      },
      "source": [
        "from sklearn.ensemble import RandomForestClassifier\n",
        "# load dataset\n",
        "df2 = df2.sample(frac=1) # shuffle it\n",
        "feature_cols = ['Age', 'Minutes','USG%', 'Points', \"Height (in cm)\", \"Weight (in lb)\", \"Games_Played\", \"Turnovers\", \"FT\", \"3P\"]\n",
        "\n",
        "\n",
        "X = df2[feature_cols] # Features\n",
        "y = df2.Body # Target variable\n",
        "\n",
        "X_train, X_test, y_train, y_test = train_test_split(X, y, test_size=0.3, random_state=1) # 70% training and 30% test\n",
        "\n",
        "#Create a Gaussian Classifier\n",
        "clf=RandomForestClassifier(n_estimators=200)\n",
        "\n",
        "#Train the model using the training sets y_pred=clf.predict(X_test)\n",
        "clf.fit(X_train,y_train)\n",
        "\n",
        "import pandas as pd\n",
        "feature_imp = pd.Series(clf.feature_importances_,index=feature_cols).sort_values(ascending=False)\n",
        "feature_imp"
      ],
      "execution_count": 509,
      "outputs": [
        {
          "output_type": "execute_result",
          "data": {
            "text/plain": [
              "Age               0.117291\n",
              "FT                0.116278\n",
              "Minutes           0.113928\n",
              "Turnovers         0.107946\n",
              "Points            0.103897\n",
              "USG%              0.102900\n",
              "Games_Played      0.094245\n",
              "3P                0.093088\n",
              "Weight (in lb)    0.088605\n",
              "Height (in cm)    0.061822\n",
              "dtype: float64"
            ]
          },
          "metadata": {
            "tags": []
          },
          "execution_count": 509
        }
      ]
    },
    {
      "cell_type": "markdown",
      "metadata": {
        "id": "OtfCa5t7iOQg",
        "colab_type": "text"
      },
      "source": [
        "based on this, we see weight and height dont predict what body part is likely to get injured, while minutes, FT, and age are the top three indicators"
      ]
    },
    {
      "cell_type": "markdown",
      "metadata": {
        "id": "aZidoO_-MtDg",
        "colab_type": "text"
      },
      "source": [
        "#Plotting Model Results"
      ]
    },
    {
      "cell_type": "code",
      "metadata": {
        "id": "3jA9tmCyMyRV",
        "colab_type": "code",
        "outputId": "9603134a-fdfb-49a4-827a-8b6bc6f6536b",
        "colab": {
          "base_uri": "https://localhost:8080/",
          "height": 32
        }
      },
      "source": [
        "#names\n",
        "names = [\"Dummy\", \"Naive Bayes\", \"Logistic\", \"KNN\", \"DTree\", \"Random Forrest\"]\n",
        "\n",
        "#results\n",
        "print(results_injury)"
      ],
      "execution_count": 510,
      "outputs": [
        {
          "output_type": "stream",
          "text": [
            "[0.29750479846449135, 0.20633397312859886, 0.30134357005758156, 0.5268714011516314, 0.5777351247600768, 0.5978886756238004]\n"
          ],
          "name": "stdout"
        }
      ]
    },
    {
      "cell_type": "code",
      "metadata": {
        "id": "31Mg3qb1Mrd0",
        "colab_type": "code",
        "outputId": "34b9c7a1-8804-460a-8ede-a1100b85e35b",
        "colab": {
          "base_uri": "https://localhost:8080/",
          "height": 292
        }
      },
      "source": [
        "fig = plt.figure()\n",
        "fig.suptitle('Algorithm Comparison Prediction of Body Part Injured (F1-Score)')\n",
        "plt.scatter(names,results_injury)\n",
        "plt.plot(names,results_injury)\n",
        "\n",
        "plt.show()"
      ],
      "execution_count": 511,
      "outputs": [
        {
          "output_type": "display_data",
          "data": {
            "image/png": "[encoded data removed]",
            "text/plain": [
              "<Figure size 432x288 with 1 Axes>"
            ]
          },
          "metadata": {
            "tags": [],
            "needs_background": "light"
          }
        }
      ]
    }
  ]
}